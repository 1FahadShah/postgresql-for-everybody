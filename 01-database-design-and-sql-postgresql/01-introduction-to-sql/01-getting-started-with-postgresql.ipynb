{
 "cells": [
  {
   "cell_type": "markdown",
   "id": "3ccd557b-ef80-42f7-9b39-60d4cdd86d7b",
   "metadata": {},
   "source": [
    "# Getting Started with PostgreSQL\n",
    "\n",
    "In this notebook, we cover the basics of PostgreSQL:\n",
    "\n",
    "1. Starting the PostgreSQL command line (`psql`)\n",
    "2. Creating a **user** and **database**\n",
    "3. Connecting to a database\n",
    "4. Creating our first **table**\n",
    "5. Inserting and querying sample data\n",
    "\n",
    "We'll use **PostgreSQL v17** locally and connect via **psql**."
   ]
  },
  {
   "cell_type": "markdown",
   "id": "c8c29a4c-f343-4c98-acea-bc40015aaaf5",
   "metadata": {},
   "source": [
    "## 1. Starting the PostgreSQL Command Line (`psql`)"
   ]
  },
  {
   "cell_type": "markdown",
   "id": "c82525d6-c98f-4d4a-93e5-2af5f9285da8",
   "metadata": {},
   "source": [
    "```bash\n",
    "sudo apt install postgresql postgresql-contrib -y\n",
    "\n",
    "psql --version\n",
    "\n",
    "sudo service postgresql start\n",
    "\n",
    "sudo service postgresql status\n",
    "\n",
    "sudo -i -u postgres\n",
    "\n",
    "psql\n",
    "```"
   ]
  },
  {
   "cell_type": "markdown",
   "id": "09c53cea-90ff-45a8-8bfe-8bb831dd0f87",
   "metadata": {},
   "source": [
    "## 2. Creating a User and Database\n",
    "\n",
    "We'll create:\n",
    "- A new PostgreSQL user: **fahad**\n",
    "- A database named **people** owned by **fahad**\n"
   ]
  },
  {
   "cell_type": "markdown",
   "id": "848f31fe-0a3e-4f23-b24b-5242f5409511",
   "metadata": {},
   "source": [
    "```sql\n",
    "CREATE USER fahad WITH PASSWORD 'secret';\n",
    "CREATE DATABASE people WITH OWNER 'fahad';\n",
    "```\n"
   ]
  },
  {
   "cell_type": "markdown",
   "id": "554de0cf-4f8e-4e05-9b53-614cf640f162",
   "metadata": {},
   "source": [
    "## 3. Connecting to the Database\n",
    "\n",
    "```bash\n",
    "$psql people fahad\n",
    "password for user fahad: secret\n",
    "people=> \\dt\n",
    "No relations found\n",
    "```\n"
   ]
  },
  {
   "cell_type": "markdown",
   "id": "8df6c4d6-ec1f-4a07-b3bd-7939d1545abd",
   "metadata": {},
   "source": [
    "## 4. Creating the First Table\n",
    "\n",
    "We'll create a `users` table with two columns:\n",
    "- `name` → stores the user's full name\n",
    "- `email` → stores the user's email address\n",
    "\n",
    "```sql\n",
    "CREATE TABLE IF NOT EXISTS users (\n",
    "    id SERIAL PRIMARY KEY,\n",
    "    name VARCHAR(128),\n",
    "    email VARCHAR(128)\n",
    ");\n",
    "```"
   ]
  },
  {
   "cell_type": "markdown",
   "id": "c03a2079-48a7-48e2-b79a-d29e030b5b28",
   "metadata": {},
   "source": [
    "# 5. Inserting and querying sample data\n",
    "\n",
    "```sql\n",
    "INSERT INTO users (name, email)\n",
    "VALUES\n",
    "    ('Fahad Shah', 'me@1fahadshah.com'),\n",
    "    ('John Doe', 'john@1fahadshah.com');\n",
    "\n",
    "SELECT * FROM users;\n",
    "```"
   ]
  },
  {
   "cell_type": "markdown",
   "id": "b7957224-f552-4bab-aa12-e8bda4a228dc",
   "metadata": {},
   "source": [
    "### Key Takeaways\n",
    "\n",
    "- Learned to start the PostgreSQL command line\n",
    "- Created a **user** and **database**\n",
    "- Connected to the database using **psql** and Jupyter\n",
    "- Created the first **users** table\n",
    "- Inserted and queried sample data"
   ]
  },
  {
   "cell_type": "code",
   "execution_count": null,
   "id": "e7e46cbc-bc95-42dc-9d91-e6818d0ccf75",
   "metadata": {},
   "outputs": [],
   "source": []
  }
 ],
 "metadata": {
  "kernelspec": {
   "display_name": "Python 3 (ipykernel)",
   "language": "python",
   "name": "python3"
  },
  "language_info": {
   "codemirror_mode": {
    "name": "ipython",
    "version": 3
   },
   "file_extension": ".py",
   "mimetype": "text/x-python",
   "name": "python",
   "nbconvert_exporter": "python",
   "pygments_lexer": "ipython3",
   "version": "3.13.5"
  }
 },
 "nbformat": 4,
 "nbformat_minor": 5
}
