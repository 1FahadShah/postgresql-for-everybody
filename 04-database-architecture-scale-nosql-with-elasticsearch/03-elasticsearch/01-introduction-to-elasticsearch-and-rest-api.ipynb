{
 "cells": [
  {
   "cell_type": "markdown",
   "metadata": {},
   "source": [
    "# Course 4, Module 3: Introduction to Elasticsearch and its REST API\n",
    "\n",
    "This notebook provides a foundational introduction to Elasticsearch. We will explore what it is, its core data organization concepts, and how to perform basic Create, Read, Update, and Delete (CRUD) operations using its native **REST API**.\n",
    "\n",
    "All commands and outputs in this notebook are pre-rendered for reference, so no live Elasticsearch instance is required."
   ]
  },
  {
   "cell_type": "markdown",
   "metadata": {},
   "source": [
    "--- \n",
    "## 1. What is Elasticsearch?\n",
    "\n",
    "**Elasticsearch** is a distributed, RESTful search and analytics engine built on top of the Apache Lucene library. While it can be used as a NoSQL, document-oriented database, its primary strength is its powerful full-text search capability. It's designed for speed and scalability, allowing you to search through massive amounts of data in near real-time.\n",
    "\n",
    "**Analogy:** If PostgreSQL is a hyper-organized relational database like a bank vault, Elasticsearch is like a super-powered, searchable library index for all your unstructured and semi-structured data. It's not where you store your primary, transactional records, but it's the best tool for finding things quickly."
   ]
  },
  {
   "cell_type": "markdown",
   "metadata": {},
   "source": [
    "--- \n",
    "## 2. Core Concepts (SQL vs. Elasticsearch)\n",
    "\n",
    "To understand Elasticsearch, it's helpful to map its concepts to the relational world you already know. This table is the Rosetta Stone for understanding its structure.\n",
    "\n",
    "| Relational Database (SQL) | Elasticsearch (NoSQL) |\n",
    "|:---|:---|\n",
    "| **Database** | **Cluster** (A collection of one or more servers/nodes) |\n",
    "| **Table** | **Index** (A collection of documents) |\n",
    "| **Row** | **Document** (A self-contained JSON object) |\n",
    "| **Column** | **Field** (A key inside the JSON document) |\n",
    "| **Schema** | **Mapping** (Rules defining the fields and their data types) |"
   ]
  },
  {
   "cell_type": "markdown",
   "metadata": {},
   "source": [
    "--- \n",
    "## 3. Interacting with the REST API using `curl`\n",
    "\n",
    "All interactions with Elasticsearch happen over a standard HTTP REST API. The following examples show the `curl` commands and the expected JSON responses."
   ]
  },
  {
   "cell_type": "markdown",
   "metadata": {},
   "source": [
    "### Health Check\n",
    "\n",
    "First, let's check if our Elasticsearch cluster is running and healthy.\n",
    "\n",
    "**Command:**\n",
    "```bash\n",
    "curl -X GET \"localhost:9200/_cat/health?v\"\n",
    "```\n",
    "\n",
    "**Expected Output:**\n",
    "```\n",
    "epoch      timestamp cluster       status node.total node.data shards pri relo init unassign pending_tasks max_task_wait_time active_shards_percent\n",
    "1664558219 12:06:59  elasticsearch green           1         1      0   0    0    0        0             0                  -                100.0%\n",
    "```"
   ]
  },
  {
   "cell_type": "markdown",
   "metadata": {},
   "source": [
    "### Create an Index\n",
    "\n",
    "An index is like a database table. Let's create one called `books` using an HTTP `PUT` request.\n",
    "\n",
    "**Command:**\n",
    "```bash\n",
    "curl -X PUT \"localhost:9200/books\"\n",
    "```\n",
    "\n",
    "**Expected Output:**\n",
    "```json\n",
    "{\n",
    "  \"acknowledged\": true,\n",
    "  \"shards_acknowledged\": true,\n",
    "  \"index\": \"books\"\n",
    "}\n",
    "```"
   ]
  },
  {
   "cell_type": "markdown",
   "metadata": {},
   "source": [
    "### Index a Document (Create/Update)\n",
    "\n",
    "Now let's add a document (like a row) to our `books` index. We'll give it an ID of `1`. We use a `POST` request and provide the JSON data using the `-d` flag.\n",
    "\n",
    "**Command:**\n",
    "```bash\n",
    "curl -X POST \"localhost:9200/books/_doc/1\" -H 'Content-Type: application/json' -d'{\n",
    "  \"title\": \"The Great Gatsby\",\n",
    "  \"author\": \"F. Scott Fitzgerald\",\n",
    "  \"year\": 1925,\n",
    "  \"tags\": [\"classic\", \"novel\"]\n",
    "}'\n",
    "```\n",
    "\n",
    "**Expected Output:**\n",
    "```json\n",
    "{\n",
    "  \"_index\": \"books\",\n",
    "  \"_id\": \"1\",\n",
    "  \"_version\": 1,\n",
    "  \"result\": \"created\",\n",
    "  \"_shards\": {\n",
    "    \"total\": 2,\n",
    "    \"successful\": 1,\n",
    "    \"failed\": 0\n",
    "  },\n",
    "  \"_seq_no\": 0,\n",
    "  \"_primary_term\": 1\n",
    "}\n",
    "```"
   ]
  },
  {
   "cell_type": "markdown",
   "metadata": {},
   "source": [
    "### Retrieve a Document\n",
    "\n",
    "To get the document back, we use an HTTP `GET` request with the document's ID. Using `?pretty` formats the JSON output.\n",
    "\n",
    "**Command:**\n",
    "```bash\n",
    "curl -X GET \"localhost:9200/books/_doc/1?pretty\"\n",
    "```\n",
    "\n",
    "**Expected Output:**\n",
    "```json\n",
    "{\n",
    "  \"_index\" : \"books\",\n",
    "  \"_id\" : \"1\",\n",
    "  \"_version\" : 1,\n",
    "  \"_seq_no\" : 0,\n",
    "  \"_primary_term\" : 1,\n",
    "  \"found\" : true,\n",
    "  \"_source\" : {\n",
    "    \"title\" : \"The Great Gatsby\",\n",
    "    \"author\" : \"F. Scott Fitzgerald\",\n",
    "    \"year\" : 1925,\n",
    "    \"tags\" : [ \"classic\", \"novel\" ]\n",
    "  }\n",
    "}\n",
    "```"
   ]
  },
  {
   "cell_type": "markdown",
   "metadata": {},
   "source": [
    "### Delete a Document\n",
    "\n",
    "To remove the document, we use a `DELETE` request.\n",
    "\n",
    "**Command:**\n",
    "```bash\n",
    "curl -X DELETE \"localhost:9200/books/_doc/1\"\n",
    "```\n",
    "\n",
    "**Expected Output:**\n",
    "```json\n",
    "{\n",
    "  \"_index\": \"books\",\n",
    "  \"_id\": \"1\",\n",
    "  \"_version\": 2,\n",
    "  \"result\": \"deleted\",\n",
    "  \"_shards\": {\n",
    "    \"total\": 2,\n",
    "    \"successful\": 1,\n",
    "    \"failed\": 0\n",
    "  },\n",
    "  \"_seq_no\": 1,\n",
    "  \"_primary_term\": 1\n",
    "}\n",
    "```"
   ]
  },
  {
   "cell_type": "markdown",
   "metadata": {},
   "source": [
    "### Delete an Index\n",
    "\n",
    "Finally, to remove the entire index and all its documents, we send a `DELETE` request to the index name.\n",
    "\n",
    "**Command:**\n",
    "```bash\n",
    "curl -X DELETE \"localhost:9200/books\"\n",
    "```\n",
    "\n",
    "**Expected Output:**\n",
    "```json\n",
    "{\n",
    "  \"acknowledged\": true\n",
    "}\n",
    "```"
   ]
  },
  {
   "cell_type": "markdown",
   "metadata": {},
   "source": [
    "--- \n",
    "## Conclusion\n",
    "\n",
    "This notebook covered the absolute basics of Elasticsearch. We learned that:\n",
    "- It's a document-oriented search engine with concepts that map to the relational world.\n",
    "- All interactions happen over a standard **HTTP REST API**.\n",
    "- We can perform basic CRUD operations (Create/Index, Get, Delete) using simple tools like `curl`.\n",
    "\n",
    "In the next notebook, we will dive into Elasticsearch's main feature: **powerful search**."
   ]
  }
 ],
 "metadata": {
  "kernelspec": {
   "display_name": "Python 3 (ipykernel)",
   "language": "python",
   "name": "python3"
  },
  "language_info": {
   "codemirror_mode": {
    "name": "ipython",
    "version": 3
   },
   "file_extension": ".py",
   "mimetype": "text/x-python",
   "name": "python",
   "nbconvert_exporter": "python",
   "pygments_lexer": "ipython3",
   "version": "3.13.5"
  }
 },
 "nbformat": 4,
 "nbformat_minor": 4
}