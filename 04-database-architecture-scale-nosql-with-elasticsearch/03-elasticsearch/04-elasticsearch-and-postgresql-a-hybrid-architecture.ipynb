{
 "cells": [
  {
   "cell_type": "markdown",
   "metadata": {},
   "source": [
    "# Elasticsearch and PostgreSQL - A Hybrid Architecture\n",
    "\n",
    "We have learned how to use PostgreSQL's Full-Text Search and how to use the more powerful, dedicated search engine, Elasticsearch. The final question for an architect is not \"which one is better?\", but \"when should I use each one?\"\n",
    "\n",
    "This notebook covers the high-level architectural patterns for using Elasticsearch and PostgreSQL **together** to create a robust, scalable, and feature-rich application. This is a prime example of **Polyglot Persistence**."
   ]
  },
  {
   "cell_type": "markdown",
   "metadata": {},
   "source": [
    "--- \n",
    "## 1. The Core Trade-off: When to Choose Which?\n",
    "\n",
    "Both systems can perform text search, but they are designed for fundamentally different purposes. Choosing the right tool depends on your application's primary needs.\n",
    "\n",
    "| Feature | PostgreSQL Full-Text Search | Elasticsearch |\n",
    "|:---|:---|:---|\n",
    "| **Primary Purpose** | **Transactional RDBMS**. Search is an added feature. | **Search Engine**. Search is the core purpose. |\n",
    "| **Data Consistency** | **Strongly Consistent (ACID)**. Data is immediately consistent after a write. | **Eventually Consistent (BASE)**. Data is available within seconds, not instantly. |\n",
    "| **Scalability** | Harder to scale search independently. Scaling reads is easy (replicas), but scaling writes is very hard (sharding). | **Built for Horizontal Scaling**. Adding new nodes to a cluster to handle more data and traffic is a core feature. |\n",
    "| **Query Language** | **SQL**. Powerful for structured data, but less expressive for complex text search. | **JSON-based DSL**. Extremely expressive and designed specifically for complex text search and analytics. |\n",
    "| **Relevance Tuning** | Basic ranking functions (`ts_rank`). | Extremely advanced relevance scoring and tuning capabilities. |"
   ]
  },
  {
   "cell_type": "markdown",
   "metadata": {},
   "source": [
    "**Conclusion:** Use PostgreSQL's FTS for simple, convenient search needs where the data already lives. Use Elasticsearch when search is a core, high-performance feature of your application."
   ]
  },
  {
   "cell_type": "markdown",
   "metadata": {},
   "source": [
    "--- \n",
    "## 2. The \"Search-as-a-Sidecar\" Pattern\n",
    "\n",
    "The most common and powerful architecture for using both systems together is to treat Elasticsearch as a secondary, specialized index for your primary database.\n",
    "\n",
    "- **PostgreSQL** acts as the primary **Source of Truth**. All original data is written here, and it is the authority for data integrity.\n",
    "- **Elasticsearch** acts as a secondary, specialized **Search Index**. Data is copied from PostgreSQL into Elasticsearch to make it highly searchable.\n",
    "\n",
    "Data flows in **one direction**: from PostgreSQL to Elasticsearch.\n",
    "\n",
    "#### Analogy: The Bank Vault and the ATMs\n",
    "\n",
    "PostgreSQL is your meticulously organized, fire-proof **bank vault**. It's the ultimate source of truth for your money. Elasticsearch is a global network of **ATMs**. The ATMs hold *copies* of the money, are optimized for fast withdrawals, and can be placed anywhere. You never deposit money directly into an ATM; you always deposit it at the bank, which then stocks the ATMs. You search for and withdraw cash from the fast, convenient ATM, but the master record of your balance is always safe in the vault."
   ]
  },
  {
   "cell_type": "markdown",
   "metadata": {},
   "source": [
    "--- \n",
    "## 3. Data Synchronization Strategies\n",
    "\n",
    "The most critical implementation detail is keeping the search index (Elasticsearch) synchronized with the source of truth (PostgreSQL).\n",
    "\n",
    "### Dual Writes (Application Level)\n",
    "- **How it works:** When your application needs to save data, it writes to PostgreSQL *and* then makes a separate API call to write the same data to Elasticsearch.\n",
    "- **Pros:** Simple to implement initially.\n",
    "- **Cons:** Very brittle. What if the write to PostgreSQL succeeds, but the write to Elasticsearch fails due to a network error? Your data is now out of sync. This approach is not recommended for production systems.\n",
    "\n",
    "### Asynchronous Syncing (The Better Way)\n",
    "A separate, background process is responsible for keeping the two systems in sync.\n",
    "\n",
    "- **Batch Script:** A script runs on a schedule (e.g., every 5 minutes). It queries PostgreSQL for all rows that have changed since the last run and updates Elasticsearch accordingly. Simple, but the search index can be several minutes out of date.\n",
    "\n",
    "- **Streaming (The Best Way):** This is the modern, robust solution. Tools like **Logstash** (from the creators of Elasticsearch) or **Debezium** can connect to PostgreSQL's **Write-Ahead Log (WAL)**. They can \"tail\" this log of changes and stream them to Elasticsearch in near real-time. This keeps the search index fresh within seconds of the original database change."
   ]
  },
  {
   "cell_type": "markdown",
   "metadata": {},
   "source": [
    "--- \n",
    "## 4. Conclusion: The Polyglot Persistence Dream Team\n",
    "\n",
    "The modern approach is not a competition between SQL and NoSQL. It's about using the right tool for the job.\n",
    "\n",
    "The **PostgreSQL + Elasticsearch** combination is a classic and extremely powerful pattern that gives you the best of both worlds:\n",
    "\n",
    "- The **transactional integrity and reliability** of a leading relational database for your core data.\n",
    "- The **world-class search and analytics** capabilities of a dedicated, scalable search engine.\n",
    "\n",
    "This is a prime example of a successful **Polyglot Persistence** architecture."
   ]
  }
 ],
 "metadata": {
  "kernelspec": {
   "display_name": "Python 3 (ipykernel)",
   "language": "python",
   "name": "python3"
  },
  "language_info": {
   "codemirror_mode": {
    "name": "ipython",
    "version": 3
   },
   "file_extension": ".py",
   "mimetype": "text/x-python",
   "name": "python",
   "nbconvert_exporter": "python",
   "pygments_lexer": "ipython3",
   "version": "3.13.5"
  }
 },
 "nbformat": 4,
 "nbformat_minor": 4
}
