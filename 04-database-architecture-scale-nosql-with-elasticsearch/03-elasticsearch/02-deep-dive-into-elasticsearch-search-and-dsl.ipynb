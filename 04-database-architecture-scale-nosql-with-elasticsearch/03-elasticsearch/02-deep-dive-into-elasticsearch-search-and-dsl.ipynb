{
 "cells": [
  {
   "cell_type": "markdown",
   "metadata": {},
   "source": [
    "# Course 4, Module 3: Deep Dive into Elasticsearch Search and DSL\n",
    "\n",
    "Now that we know how to perform basic CRUD operations, it's time to explore Elasticsearch's main feature: **search**. Unlike the simple URI search, most powerful searches are done using a rich, JSON-based language called the **Query DSL (Domain Specific Language)**.\n",
    "\n",
    "This notebook covers:\n",
    "1.  How to bulk-insert data for our examples.\n",
    "2.  The difference between **Query Context** and **Filter Context**.\n",
    "3.  The most common and useful search queries (`match`, `term`, `range`).\n",
    "4.  How to combine queries using the powerful **`bool`** query."
   ]
  },
  {
   "cell_type": "markdown",
   "metadata": {},
   "source": [
    "--- \n",
    "## 1. Setting Up the Demo Data\n",
    "\n",
    "First, we'll delete any old `books` index and then use the `_bulk` API to index several book documents at once. This is the most efficient way to insert multiple documents."
   ]
  },
  {
   "cell_type": "markdown",
   "metadata": {},
   "source": [
    "**Command:**\n",
    "```bash\n",
    "curl -X POST \"localhost:9200/books/_bulk?pretty\" -H 'Content-Type: application/json' -d'\n",
    "{\"index\":{\"_id\":\"1\"}}\n",
    "{\"title\":\"The Great Gatsby\",\"author\":\"F. Scott Fitzgerald\",\"year\":1925,\"summary\":\"A story of wealth, love, and the American dream.\",\"tags\":[\"classic\",\"novel\"]}\n",
    "{\"index\":{\"_id\":\"2\"}}\n",
    "{\"title\":\"To Kill a Mockingbird\",\"author\":\"Harper Lee\",\"year\":1960,\"summary\":\"A powerful story about justice and racial inequality.\",\"tags\":[\"classic\",\"fiction\"]}\n",
    "{\"index\":{\"_id\":\"3\"}}\n",
    "{\"title\":\"1984\",\"author\":\"George Orwell\",\"year\":1949,\"summary\":\"A dystopian novel about totalitarianism and surveillance.\",\"tags\":[\"classic\",\"dystopian\"]}\n",
    "{\"index\":{\"_id\":\"4\"}}\n",
    "{\"title\":\"Pride and Prejudice\",\"author\":\"Jane Austen\",\"year\":1813,\"summary\":\"A romantic novel of manners and a story of love.\",\"tags\":[\"classic\",\"romance\"]}\n",
    "'\n",
    "```\n",
    "\n",
    "**Expected Output:**\n",
    "```json\n",
    "{\n",
    "  \"took\" : 25,\n",
    "  \"errors\" : false,\n",
    "  \"items\" : [ /* ... details about each item ... */ ]\n",
    "}\n",
    "```"
   ]
  },
  {
   "cell_type": "markdown",
   "metadata": {},
   "source": [
    "--- \n",
    "## 2. Query Context vs. Filter Context\n",
    "\n",
    "This is a critical concept in Elasticsearch. Every query clause runs in one of two contexts:\n",
    "\n",
    "- **Query Context**: Asks \"*How well* does this document match this query?\" It calculates a relevance **`_score`** for each document. This is used for full-text search where you care about which result is the *best* match.\n",
    "\n",
    "- **Filter Context**: Asks \"*Does* this document match this query?\" It's a simple yes/no question and does not calculate a score. It's much faster and its results can be cached. This is used for exact matches on structured data (like years, tags, or IDs).\n",
    "\n",
    "You will almost always use a mix of both in a single search request."
   ]
  },
  {
   "cell_type": "markdown",
   "metadata": {},
   "source": [
    "--- \n",
    "## 3. The Most Common Queries\n",
    "\n",
    "All complex searches are performed using a `GET` request to the `_search` endpoint with a JSON body."
   ]
  },
  {
   "cell_type": "markdown",
   "metadata": {},
   "source": [
    "### `match` Query (Query Context)\n",
    "\n",
    "The standard for full-text search on a field. It analyzes the search string and finds documents containing the individual terms.\n",
    "\n",
    "**Command:**\n",
    "```bash\n",
    "curl -X GET \"localhost:9200/books/_search?pretty\" -H 'Content-Type: application/json' -d'\n",
    "{\n",
    "  \"query\": {\n",
    "    \"match\": {\n",
    "      \"summary\": \"love and justice\"\n",
    "    }\n",
    "  }\n",
    "}'\n",
    "```\n",
    "\n",
    "**Expected Output (Simplified):**\n",
    "```json\n",
    "{\n",
    "  \"hits\": {\n",
    "    \"total\": {\"value\": 2, \"relation\": \"eq\"},\n",
    "    \"hits\": [\n",
    "      {\n",
    "        \"_id\": \"4\",\n",
    "        \"_score\": 1.5753493,\n",
    "        \"_source\": { \"title\": \"Pride and Prejudice\", /* ... */ }\n",
    "      },\n",
    "      {\n",
    "        \"_id\": \"2\",\n",
    "        \"_score\": 1.252763,\n",
    "        \"_source\": { \"title\": \"To Kill a Mockingbird\", /* ... */ }\n",
    "      }\n",
    "    ]\n",
    "  }\n",
    "}\n",
    "```"
   ]
  },
  {
   "cell_type": "markdown",
   "metadata": {},
   "source": [
    "### `term` Query (Filter Context)\n",
    "\n",
    "Used for finding an **exact** value in a field. This is best used on `keyword` fields (like tags) that are not analyzed as full text.\n",
    "\n",
    "**Command:**\n",
    "```bash\n",
    "curl -X GET \"localhost:9200/books/_search?pretty\" -H 'Content-Type: application/json' -d'\n",
    "{\n",
    "  \"query\": {\n",
    "    \"term\": {\n",
    "      \"tags.keyword\": \"dystopian\" \n",
    "    }\n",
    "  }\n",
    "}'\n",
    "```\n",
    "*(Note: Elasticsearch often creates a `.keyword` sub-field for exact matching on text fields.)*\n",
    "\n",
    "**Expected Output:** This will return only the document for \"1984\"."
   ]
  },
  {
   "cell_type": "markdown",
   "metadata": {},
   "source": [
    "--- \n",
    "## 4. Combining Queries with the `bool` Query\n",
    "\n",
    "The `bool` query is the workhorse for building complex searches. It lets you combine multiple query clauses with boolean logic.\n",
    "\n",
    "Let's find a book that:\n",
    "- **MUST** contain `story` in the summary (Query Context)\n",
    "- **MUST NOT** be a `romance` (Filter Context)\n",
    "- **SHOULD** preferably be by `George Orwell` (Query Context, boosts score)\n",
    "- **MUST** have a `year` greater than `1940` (Filter Context)\n",
    "\n",
    "**Command:**\n",
    "```bash\n",
    "curl -X GET \"localhost:9200/books/_search?pretty\" -H 'Content-Type: application/json' -d'\n",
    "{\n",
    "  \"query\": {\n",
    "    \"bool\": {\n",
    "      \"must\": [\n",
    "        { \"match\": { \"summary\": \"story\" } }\n",
    "      ],\n",
    "      \"must_not\": [\n",
    "        { \"term\": { \"tags.keyword\": \"romance\" } }\n",
    "      ],\n",
    "      \"should\": [\n",
    "        { \"match\": { \"author\": \"George Orwell\" } }\n",
    "      ],\n",
    "      \"filter\": [\n",
    "        { \"range\": { \"year\": { \"gt\": 1940 } } }\n",
    "      ]\n",
    "    }\n",
    "  }\n",
    "}'\n",
    "```\n",
    "\n",
    "**Expected Output:** This complex query will correctly return two documents: \"To Kill a Mockingbird\" and \"1984\", with \"1984\" getting a higher relevance `_score` because it matched the `should` clause."
   ]
  },
  {
   "cell_type": "markdown",
   "metadata": {},
   "source": [
    "--- \n",
    "## Conclusion\n",
    "\n",
    "This notebook introduced the power and flexibility of the Elasticsearch Query DSL. We learned:\n",
    "\n",
    "- The crucial difference between **Query Context** (for relevance) and **Filter Context** (for exact matches).\n",
    "- How to use fundamental queries like `match` and `term`.\n",
    "- How to build sophisticated searches by combining clauses in a **`bool` query**.\n",
    "\n",
    "In the next notebook, we will learn how to execute these queries programmatically using the official Python client."
   ]
  }
 ],
 "metadata": {
  "kernelspec": {
   "display_name": "Python 3 (ipykernel)",
   "language": "python",
   "name": "python3"
  },
  "language_info": {
   "codemirror_mode": {
    "name": "ipython",
    "version": 3
   },
   "file_extension": ".py",
   "mimetype": "text/x-python",
   "name": "python",
   "nbconvert_exporter": "python",
   "pygments_lexer": "ipython3",
   "version": "3.13.5"
  }
 },
 "nbformat": 4,
 "nbformat_minor": 4
}
