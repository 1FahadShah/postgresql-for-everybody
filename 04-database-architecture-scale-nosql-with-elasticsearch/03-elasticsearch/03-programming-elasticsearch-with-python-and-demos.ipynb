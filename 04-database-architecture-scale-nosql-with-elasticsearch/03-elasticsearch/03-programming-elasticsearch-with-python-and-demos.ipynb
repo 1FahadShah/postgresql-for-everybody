{
 "cells": [
  {
   "cell_type": "markdown",
   "metadata": {},
   "source": [
    "# Programming Elasticsearch with Python\n",
    "\n",
    "While `curl` is excellent for testing and exploration, real applications need to interact with Elasticsearch programmatically. This notebook covers how to use the official **Elasticsearch Python client** to connect to a cluster, manage data, and perform searches.\n",
    "\n",
    "We will cover:\n",
    "1.  Installing and connecting with the Python client.\n",
    "2.  Performing CRUD and search operations in Python.\n",
    "3.  Practical demos for indexing and searching different types of documents (books, emails, and tweets)."
   ]
  },
  {
   "cell_type": "markdown",
   "metadata": {},
   "source": [
    "--- \n",
    "## 1. Setting up the Python Client\n",
    "\n",
    "First, you need to install the official library from PyPI."
   ]
  },
  {
   "cell_type": "markdown",
   "metadata": {},
   "source": [
    "**Command:**\n",
    "```bash\n",
    "pip install elasticsearch\n",
    "```\n",
    "\n",
    "Once installed, you can import the client and create an instance to connect to your cluster. We will then check the connection."
   ]
  },
  {
   "cell_type": "markdown",
   "metadata": {},
   "source": [
    "**Code:**\n",
    "```python\n",
    "from elasticsearch import Elasticsearch\n",
    "import json # To pretty-print the results\n",
    "\n",
    "# This assumes Elasticsearch is running on localhost:9200\n",
    "try:\n",
    "    es = Elasticsearch(\"http://localhost:9200\")\n",
    "    if es.ping():\n",
    "        print(\"Successfully connected to Elasticsearch!\")\n",
    "    else:\n",
    "        print(\"Could not connect to Elasticsearch.\")\n",
    "except Exception as e:\n",
    "    print(f\"An error occurred: {e}\")\n",
    "```\n",
    "\n",
    "**Expected Output:**\n",
    "```\n",
    "Successfully connected to Elasticsearch!\n",
    "```"
   ]
  },
  {
   "cell_type": "markdown",
   "metadata": {},
   "source": [
    "--- \n",
    "## 2. CRUD and Search in Python\n",
    "\n",
    "The Python client provides methods that map directly to the REST API endpoints."
   ]
  },
  {
   "cell_type": "markdown",
   "metadata": {},
   "source": [
    "**Code:**\n",
    "```python\n",
    "# The document we want to index\n",
    "doc = {\n",
    "    'title': 'The Hobbit',\n",
    "    'author': 'J.R.R. Tolkien',\n",
    "    'year': 1937\n",
    "}\n",
    "\n",
    "# Index the document in the 'books' index with ID '5'\n",
    "response = es.index(index='books', id=5, document=doc)\n",
    "print(\"--- Indexing Document ---\")\n",
    "print(f\"Result: {response['result']}\")\n",
    "\n",
    "# Retrieve the document\n",
    "response = es.get(index='books', id=5)\n",
    "print(\"\\n--- Retrieving Document ---\")\n",
    "print(json.dumps(response['_source'], indent=2))\n",
    "\n",
    "# Search for the document\n",
    "query = {\n",
    "    'match': {\n",
    "        'author': 'Tolkien'\n",
    "    }\n",
    "}\n",
    "response = es.search(index='books', query=query)\n",
    "print(\"\\n--- Searching for Document ---\")\n",
    "print(f\"Found {response['hits']['total']['value']} hit(s).\")\n",
    "for hit in response['hits']['hits']:\n",
    "    print(json.dumps(hit['_source'], indent=2))\n",
    "\n",
    "# Delete the document\n",
    "response = es.delete(index='books', id=5)\n",
    "print(\"\\n--- Deleting Document ---\")\n",
    "print(f\"Result: {response['result']}\")\n",
    "```\n",
    "\n",
    "**Expected Output:**\n",
    "```\n",
    "--- Indexing Document ---\n",
    "Result: created\n",
    "\n",
    "--- Retrieving Document ---\n",
    "{\n",
    "  \"title\": \"The Hobbit\",\n",
    "  \"author\": \"J.R.R. Tolkien\",\n",
    "  \"year\": 1937\n",
    "}\n",
    "\n",
    "--- Searching for Document ---\n",
    "Found 1 hit(s).\n",
    "{\n",
    "  \"title\": \"The Hobbit\",\n",
    "  \"author\": \"J.R.R. Tolkien\",\n",
    "  \"year\": 1937\n",
    "}\n",
    "\n",
    "--- Deleting Document ---\n",
    "Result: deleted\n",
    "```"
   ]
  },
  {
   "cell_type": "markdown",
   "metadata": {},
   "source": [
    "--- \n",
    "## 3. Practical Demos\n",
    "\n",
    "Let's use the Python client to perform the searches from our demo plans."
   ]
  },
  {
   "cell_type": "markdown",
   "metadata": {},
   "source": [
    "### Demo 1: Indexing and Searching Emails\n",
    "\n",
    "We will index a few emails and then find one from a specific sender that contains the word \"report\"."
   ]
  },
  {
   "cell_type": "markdown",
   "metadata": {},
   "source": [
    "**Code:**\n",
    "```python\n",
    "from elasticsearch.helpers import bulk\n",
    "\n",
    "emails = [\n",
    "    {'_index': 'emails', '_id': 1, '_source': {'sender': 'boss@example.com', 'subject': 'Urgent: Project Update', 'body': 'We need the final report by Friday.'}},\n",
    "    {'_index': 'emails', '_id': 2, '_source': {'sender': 'hr@example.com', 'subject': 'Holiday Schedule', 'body': 'A reminder about the upcoming holiday.'}},\n",
    "    {'_index': 'emails', '_id': 3, '_source': {'sender': 'boss@example.com', 'subject': 'Re: Yesterday\\'s Meeting', 'body': 'Please send me the sales report as soon as possible.'}}\n",
    "]\n",
    "\n",
    "# Bulk index the documents\n",
    "es.indices.delete(index='emails', ignore_unavailable=True) # Clear old index\n",
    "bulk(es, emails)\n",
    "print(\"Emails indexed successfully.\")\n",
    "\n",
    "# Define the complex search query\n",
    "query = {\n",
    "    \"bool\": {\n",
    "        \"must\": [\n",
    "            { \"match\": { \"body\": \"report\" } }\n",
    "        ],\n",
    "        \"filter\": [\n",
    "            { \"term\": { \"sender.keyword\": \"boss@example.com\" } }\n",
    "        ]\n",
    "    }\n",
    "}\n",
    "\n",
    "# Execute the search\n",
    "response = es.search(index='emails', query=query)\n",
    "\n",
    "print(\"\\n--- Search Results ---\")\n",
    "for hit in response['hits']['hits']:\n",
    "    print(f\"Found email with subject: {hit['_source']['subject']}\")\n",
    "```\n",
    "\n",
    "**Expected Output:**\n",
    "```\n",
    "Emails indexed successfully.\n",
    "\n",
    "--- Search Results ---\n",
    "Found email with subject: Urgent: Project Update\n",
    "Found email with subject: Re: Yesterday's Meeting\n",
    "```"
   ]
  },
  {
   "cell_type": "markdown",
   "metadata": {},
   "source": [
    "### Demo 2: Indexing and Searching Tweets\n",
    "\n",
    "We will index tweets and search for one containing a specific phrase and hashtag."
   ]
  },
  {
   "cell_type": "markdown",
   "metadata": {},
   "source": [
    "**Code:**\n",
    "```python\n",
    "tweets = [\n",
    "    {'_index': 'tweets', '_id': 1, '_source': {'user': 'user_a', 'timestamp': '2025-09-30T12:00:00', 'text': 'I love learning about PostgreSQL!', 'hashtags': ['database', 'postgres']}},\n",
    "    {'_index': 'tweets', '_id': 2, '_source': {'user': 'user_b', 'timestamp': '2025-09-30T12:05:00', 'text': 'Elasticsearch is so fast for text search.', 'hashtags': ['database', 'search']}}\n",
    "]\n",
    "\n",
    "es.indices.delete(index='tweets', ignore_unavailable=True) # Clear old index\n",
    "bulk(es, tweets)\n",
    "print(\"Tweets indexed successfully.\")\n",
    "\n",
    "query = {\n",
    "    \"bool\": {\n",
    "        \"must\": [\n",
    "            { \"match_phrase\": { \"text\": \"love learning\" } } \n",
    "        ],\n",
    "        \"filter\": [\n",
    "            { \"term\": { \"hashtags.keyword\": \"database\" } }\n",
    "        ]\n",
    "    }\n",
    "}\n",
    "\n",
    "response = es.search(index='tweets', query=query)\n",
    "print(\"\\n--- Search Results ---\")\n",
    "for hit in response['hits']['hits']:\n",
    "    print(f\"Found tweet from {hit['_source']['user']}: {hit['_source']['text']}\")\n",
    "```\n",
    "\n",
    "**Expected Output:**\n",
    "```\n",
    "Tweets indexed successfully.\n",
    "\n",
    "--- Search Results ---\n",
    "Found tweet from user_a: I love learning about PostgreSQL!\n",
    "```"
   ]
  },
  {
   "cell_type": "markdown",
   "metadata": {},
   "source": [
    "--- \n",
    "## Conclusion\n",
    "\n",
    "This notebook demonstrated how to move from command-line tools to a real programming language for interacting with Elasticsearch. We learned that:\n",
    "\n",
    "- The official **Python client** provides a clean, programmatic interface to the entire REST API.\n",
    "- The JSON **Query DSL** is passed as a simple Python dictionary to the `search()` method.\n",
    "- The `es.helpers.bulk()` function is the most efficient way to index large amounts of data.\n",
    "\n",
    "With these skills, you can now integrate Elasticsearch's powerful search capabilities into any Python application."
   ]
  }
 ],
 "metadata": {
  "kernelspec": {
   "display_name": "Python 3 (ipykernel)",
   "language": "python",
   "name": "python3"
  },
  "language_info": {
   "codemirror_mode": {
    "name": "ipython",
    "version": 3
   },
   "file_extension": ".py",
   "mimetype": "text/x-python",
   "name": "python",
   "nbconvert_exporter": "python",
   "pygments_lexer": "ipython3",
   "version": "3.13.5"
  }
 },
 "nbformat": 4,
 "nbformat_minor": 4
}
