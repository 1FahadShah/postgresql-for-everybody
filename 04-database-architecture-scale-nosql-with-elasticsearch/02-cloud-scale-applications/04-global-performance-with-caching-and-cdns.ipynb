{
 "cells": [
  {
   "cell_type": "markdown",
   "metadata": {},
   "source": [
    "# Global Performance with Caching and CDNs\n",
    "\n",
    "We've learned how to scale our application and database servers. But what about the physical distance between our servers and our users? The speed of light is a hard limit, and latency caused by distance can make an application feel slow, no matter how powerful our servers are.\n",
    "\n",
    "This notebook covers the final layer of scaling for a global application: **caching static assets** closer to the user using a **Content Delivery Network (CDN)**."
   ]
  },
  {
   "cell_type": "markdown",
   "metadata": {},
   "source": [
    "--- \n",
    "## 1. A Quick Review of Application Caching\n",
    "\n",
    "As we covered in the previous module, **application caching** is used to reduce the load on our database. By placing an in-memory cache like **Redis** or **Memcached** in front of our database, we can serve frequent read requests from memory, which is orders of magnitude faster than hitting the disk-based database.\n",
    "\n",
    "This is a form of **server-side caching**, as it happens within our data center, close to our application servers."
   ]
  },
  {
   "cell_type": "markdown",
   "metadata": {},
   "source": [
    "--- \n",
    "## 2. The Latency Problem & Content Delivery Networks (CDNs)\n",
    "\n",
    "### The Problem: The Speed of Light is Slow\n",
    "\n",
    "Imagine your web servers are located in a data center in Virginia, USA. When a user from India requests a page, that request must travel thousands of miles across undersea cables. Even at the speed of light, this round-trip introduces significant, unavoidable delay, known as **latency**.\n",
    "\n",
    "This is especially problematic for **static assets**: large files that don't change often, like images, videos, CSS stylesheets, and JavaScript files.\n",
    "\n",
    "### The Solution: Content Delivery Networks (CDNs)\n",
    "\n",
    "A **CDN** (like **Cloudflare**, **Amazon CloudFront**, or **Fastly**) is a massive, globally distributed network of servers. These servers, called **Edge Locations**, are strategically placed in major cities all over the world.\n",
    "\n",
    "A CDN works by copying your static assets to all of its edge locations. When a user requests a file, the CDN automatically routes them to the geographically closest server, which can deliver the content with minimal latency.\n",
    "\n",
    "**Analogy: The Global Pizza Chain**\n",
    "\n",
    "Instead of everyone in the world ordering pizza from the original restaurant in Naples, Italy (the **origin server**), the chain opens local franchises (**edge locations**) in every major city. When you order a pizza in Mumbai, you get it from the local Mumbai franchise, not from Italy. It arrives much faster and hotter."
   ]
  },
  {
   "cell_type": "markdown",
   "metadata": {},
   "source": []
  },
  {
   "cell_type": "markdown",
   "metadata": {},
   "source": [
    "--- \n",
    "## 3. The Full Hierarchy of Caching\n",
    "\n",
    "In a modern, well-architected system, a single user request might interact with multiple layers of caching before it ever reaches your database. The goal is always to answer the request as close to the user as possible (i.e., as high up this list as possible).\n",
    "\n",
    "Here is the typical hierarchy, from fastest (closest to the user) to slowest (furthest away):\n",
    "\n",
    "1.  **Browser Cache**\n",
    "    - **Location:** The user's own computer.\n",
    "    - **What it stores:** Static assets the user has downloaded before.\n",
    "    - **Speed:** Instant. No network request needed.\n",
    "\n",
    "2.  **CDN Edge Cache**\n",
    "    - **Location:** A server in a nearby city (e.g., Mumbai for a user in India).\n",
    "    - **What it stores:** Copies of your application's static assets.\n",
    "    - **Speed:** Very fast. A short network trip.\n",
    "\n",
    "3.  **Application Cache**\n",
    "    - **Location:** An in-memory server (like Redis) in the same data center as your application.\n",
    "    - **What it stores:** The results of expensive database queries or API calls.\n",
    "    - **Speed:** Fast. A network trip within the same data center.\n",
    "\n",
    "4.  **Database Cache**\n",
    "    - **Location:** PostgreSQL's internal memory buffers.\n",
    "    - **What it stores:** Frequently accessed data pages and index blocks.\n",
    "    - **Speed:** Varies. Avoids reading from disk but still requires a database connection and query processing.\n",
    "\n",
    "5.  **Disk (The Source of Truth)**\n",
    "    - **Location:** The physical SSD/HDD where your data resides.\n",
    "    - **Speed:** The slowest layer. This is the \"trip to the toolbox in the garage\" that we want to avoid as much as possible."
   ]
  },
  {
   "cell_type": "markdown",
   "metadata": {},
   "source": []
  },
  {
   "cell_type": "markdown",
   "metadata": {},
   "source": [
    "--- \n",
    "## Conclusion\n",
    "\n",
    "Building a fast, global application isn't just about having powerful servers; it's about reducing the physical distance data has to travel. \n",
    "\n",
    "By using a **CDN** to cache static assets at the edge and an **application cache** to reduce database load, you can create a highly performant and scalable system. This multi-layered caching strategy is a hallmark of modern cloud-scale applications."
   ]
  }
 ],
 "metadata": {
  "kernelspec": {
   "display_name": "Python 3 (ipykernel)",
   "language": "python",
   "name": "python3"
  },
  "language_info": {
   "codemirror_mode": {
    "name": "ipython",
    "version": 3
   },
   "file_extension": ".py",
   "mimetype": "text/x-python",
   "name": "python",
   "nbconvert_exporter": "python",
   "pygments_lexer": "ipython3",
   "version": "3.13.5"
  }
 },
 "nbformat": 4,
 "nbformat_minor": 4
}
