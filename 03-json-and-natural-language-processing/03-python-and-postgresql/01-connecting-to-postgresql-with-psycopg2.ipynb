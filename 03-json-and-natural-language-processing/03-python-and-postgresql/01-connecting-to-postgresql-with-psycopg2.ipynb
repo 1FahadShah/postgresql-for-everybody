{
 "cells": [
  {
   "cell_type": "markdown",
   "metadata": {},
   "source": [
    "# Connecting Python to PostgreSQL with `psycopg2`\n",
    "\n",
    "This notebook is the foundation for interacting with PostgreSQL from Python. We will learn how to use the `psycopg2` library, the most popular PostgreSQL database adapter for Python.\n",
    "\n",
    "We will cover:\n",
    "1.  Installing the `psycopg2` library.\n",
    "2.  Establishing a `connection` to the database.\n",
    "3.  Creating a `cursor` to execute commands.\n",
    "4.  Running a simple `SELECT` query and fetching results.\n",
    "5.  Using the `with` statement for safe and clean resource management."
   ]
  },
  {
   "cell_type": "markdown",
   "metadata": {},
   "source": [
    "--- \n",
    "## Step 1: Install `psycopg2`\n",
    "\n",
    "First, we need to install the library. `psycopg2-binary` is the easiest way to get started as it includes all the necessary dependencies."
   ]
  },
  {
   "cell_type": "code",
   "execution_count": 1,
   "metadata": {},
   "outputs": [
    {
     "name": "stdout",
     "output_type": "stream",
     "text": [
      "Requirement already satisfied: psycopg2-binary in c:\\users\\fahad shah\\appdata\\local\\programs\\python\\python313\\lib\\site-packages (2.9.10)\n"
     ]
    }
   ],
   "source": [
    "!pip install psycopg2-binary"
   ]
  },
  {
   "cell_type": "markdown",
   "metadata": {},
   "source": [
    "--- \n",
    "## Step 2: Connecting to the Database\n",
    "\n",
    "To connect, we import the library and use `psycopg2.connect()`. This function returns a **connection object**.\n",
    "\n",
    "The **connection** represents your entire session with the database. You use it to manage transactions (`commit`, `rollback`) and create cursors."
   ]
  },
  {
   "cell_type": "code",
   "execution_count": 2,
   "metadata": {},
   "outputs": [
    {
     "name": "stdout",
     "output_type": "stream",
     "text": [
      "Connection successful!\n"
     ]
    }
   ],
   "source": [
    "import psycopg2\n",
    "import os # Used for securely getting credentials in a real app\n",
    "\n",
    "# --- Best Practice: In a real application, NEVER hardcode credentials. ---\n",
    "# Use environment variables, a secrets manager, or a config file.\n",
    "# For this notebook, we'll define them here for clarity.\n",
    "DB_HOST = \"localhost\"\n",
    "DB_NAME = \"people\"\n",
    "DB_USER = \"fahad\"\n",
    "DB_PASS = \"secret\"\n",
    "\n",
    "conn = None\n",
    "try:\n",
    "    conn = psycopg2.connect(\n",
    "        host=DB_HOST,\n",
    "        dbname=DB_NAME,\n",
    "        user=DB_USER,\n",
    "        password=DB_PASS\n",
    "    )\n",
    "    print(\"Connection successful!\")\n",
    "except psycopg2.OperationalError as e:\n",
    "    print(f\"Could not connect to the database: {e}\")"
   ]
  },
  {
   "cell_type": "markdown",
   "metadata": {},
   "source": [
    "--- \n",
    "## Step 3: Creating a Cursor and Executing a Query\n",
    "\n",
    "Once connected, you need a **cursor object** to execute commands. Think of the cursor as your active tool for interacting with the database tables. You can have multiple cursors per connection.\n",
    "\n",
    "We'll create a cursor, execute a simple query to get the PostgreSQL version, and fetch the result."
   ]
  },
  {
   "cell_type": "code",
   "execution_count": 3,
   "metadata": {},
   "outputs": [
    {
     "name": "stdout",
     "output_type": "stream",
     "text": [
      "Database version: PostgreSQL 17.6 on x86_64-windows, compiled by msvc-19.44.35213, 64-bit\n",
      "Connection closed.\n"
     ]
    }
   ],
   "source": [
    "if conn:\n",
    "    cur = conn.cursor()\n",
    "    \n",
    "    # Execute a command\n",
    "    cur.execute('SELECT version();')\n",
    "    \n",
    "    # Retrieve the result\n",
    "    db_version = cur.fetchone()\n",
    "    print(f\"Database version: {db_version[0]}\")\n",
    "    \n",
    "    # --- ALWAYS close your cursor and connection when done --- \n",
    "    cur.close()\n",
    "    conn.close()\n",
    "    print(\"Connection closed.\")"
   ]
  },
  {
   "cell_type": "markdown",
   "metadata": {},
   "source": [
    "--- \n",
    "## Step 4: The 'Pythonic' Way with `with` Statements\n",
    "\n",
    "Manually closing cursors and connections is risky. If an error occurs before the `.close()` calls, the connection might be left open, consuming resources.\n",
    "\n",
    "Python's `with` statement automatically handles closing resources, even if errors happen. This is the recommended, modern way to work with `psycopg2`."
   ]
  },
  {
   "cell_type": "code",
   "execution_count": 4,
   "metadata": {},
   "outputs": [
    {
     "name": "stdout",
     "output_type": "stream",
     "text": [
      "Total tables in the database schema: 103\n",
      "Connection closed automatically.\n"
     ]
    }
   ],
   "source": [
    "try:\n",
    "    # The 'with' statement handles conn.close() for us\n",
    "    with psycopg2.connect(host=DB_HOST, dbname=DB_NAME, user=DB_USER, password=DB_PASS) as conn:\n",
    "        \n",
    "        # The 'with' statement handles cur.close() for us\n",
    "        with conn.cursor() as cur:\n",
    "            \n",
    "            cur.execute('SELECT COUNT(*) FROM pg_catalog.pg_tables;')\n",
    "            table_count = cur.fetchone()[0]\n",
    "            print(f\"Total tables in the database schema: {table_count}\")\n",
    "\n",
    "    print(\"Connection closed automatically.\")\n",
    "except psycopg2.OperationalError as e:\n",
    "    print(f\"Could not connect: {e}\")"
   ]
  },
  {
   "cell_type": "markdown",
   "metadata": {},
   "source": [
    "--- \n",
    "## Conclusion\n",
    "\n",
    "In this notebook, we learned the fundamental pattern for connecting Python to PostgreSQL:\n",
    "\n",
    "1.  **Import** `psycopg2`.\n",
    "2.  Use `psycopg2.connect()` to get a **connection**.\n",
    "3.  Use `connection.cursor()` to get a **cursor**.\n",
    "4.  Use `cursor.execute()` to run SQL commands.\n",
    "5.  Use `cursor.fetchone()` or `cursor.fetchall()` to retrieve data.\n",
    "6.  Wrap everything in `with` statements for safe and automatic resource management.\n",
    "\n",
    "With this foundation, we are ready to perform more complex database operations."
   ]
  }
 ],
 "metadata": {
  "kernelspec": {
   "display_name": "Python 3 (ipykernel)",
   "language": "python",
   "name": "python3"
  },
  "language_info": {
   "codemirror_mode": {
    "name": "ipython",
    "version": 3
   },
   "file_extension": ".py",
   "mimetype": "text/x-python",
   "name": "python",
   "nbconvert_exporter": "python",
   "pygments_lexer": "ipython3",
   "version": "3.13.5"
  }
 },
 "nbformat": 4,
 "nbformat_minor": 4
}
