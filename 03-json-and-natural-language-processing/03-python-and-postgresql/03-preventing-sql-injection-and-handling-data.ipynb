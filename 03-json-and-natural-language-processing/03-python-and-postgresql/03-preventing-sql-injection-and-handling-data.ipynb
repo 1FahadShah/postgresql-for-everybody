{
 "cells": [
  {
   "cell_type": "markdown",
   "metadata": {},
   "source": [
    "# Preventing SQL Injection and Handling Data\n",
    "\n",
    "This notebook covers two essential topics for any developer working with databases:\n",
    "\n",
    "1.  **SQL Injection**: We will learn what it is, see a live demonstration of an attack, and learn the **only correct way** to prevent it using **parameterized queries**.\n",
    "2.  **Effective Data Handling**: We will explore more convenient ways to access retrieved data, moving from standard tuples to dictionary-like objects and finally loading data directly into a **Pandas DataFrame** for analysis."
   ]
  },
  {
   "cell_type": "markdown",
   "metadata": {},
   "source": [
    "--- \n",
    "## Setup\n",
    "\n",
    "We'll import `psycopg2` and define our connection details. We also need `pandas` for the second half of the notebook."
   ]
  },
  {
   "cell_type": "code",
   "execution_count": 2,
   "metadata": {},
   "outputs": [
    {
     "name": "stdout",
     "output_type": "stream",
     "text": [
      "Requirement already satisfied: pandas in c:\\users\\fahad shah\\appdata\\local\\programs\\python\\python313\\lib\\site-packages (2.3.2)\n",
      "Requirement already satisfied: numpy>=1.26.0 in c:\\users\\fahad shah\\appdata\\local\\programs\\python\\python313\\lib\\site-packages (from pandas) (2.3.2)\n",
      "Requirement already satisfied: python-dateutil>=2.8.2 in c:\\users\\fahad shah\\appdata\\local\\programs\\python\\python313\\lib\\site-packages (from pandas) (2.9.0.post0)\n",
      "Requirement already satisfied: pytz>=2020.1 in c:\\users\\fahad shah\\appdata\\local\\programs\\python\\python313\\lib\\site-packages (from pandas) (2025.2)\n",
      "Requirement already satisfied: tzdata>=2022.7 in c:\\users\\fahad shah\\appdata\\local\\programs\\python\\python313\\lib\\site-packages (from pandas) (2025.2)\n",
      "Requirement already satisfied: six>=1.5 in c:\\users\\fahad shah\\appdata\\local\\programs\\python\\python313\\lib\\site-packages (from python-dateutil>=2.8.2->pandas) (1.17.0)\n"
     ]
    }
   ],
   "source": [
    "!pip install pandas\n",
    "import psycopg2\n",
    "import psycopg2.extras # Needed for DictCursor\n",
    "import pandas as pd\n",
    "\n",
    "DB_HOST = \"localhost\"\n",
    "DB_NAME = \"people\"\n",
    "DB_USER = \"fahad\"\n",
    "DB_PASS = \"secret\""
   ]
  },
  {
   "cell_type": "markdown",
   "metadata": {},
   "source": [
    "--- \n",
    "## SQL Injection: A Live Attack Demonstration\n",
    "\n",
    "SQL injection occurs when a user's input is directly pasted into an SQL query using string formatting. This allows a malicious user to break out of the intended query and run their own code.\n",
    "\n",
    "Let's set up a `users` table with passwords and a **vulnerable** login function."
   ]
  },
  {
   "cell_type": "code",
   "execution_count": 3,
   "metadata": {},
   "outputs": [
    {
     "name": "stdout",
     "output_type": "stream",
     "text": [
      "Table 'users' created and populated.\n"
     ]
    }
   ],
   "source": [
    "sql_setup = \"\"\"\n",
    "DROP TABLE IF EXISTS users CASCADE;\n",
    "CREATE TABLE users (\n",
    "    id SERIAL PRIMARY KEY,\n",
    "    username VARCHAR(255) UNIQUE NOT NULL,\n",
    "    password VARCHAR(255) NOT NULL\n",
    ");\n",
    "INSERT INTO users (username, password) VALUES ('admin', 'password123'), ('fahad', 'secret99');\n",
    "\"\"\"\n",
    "\n",
    "try:\n",
    "    with psycopg2.connect(host=DB_HOST, dbname=DB_NAME, user=DB_USER, password=DB_PASS) as conn:\n",
    "        with conn.cursor() as cur:\n",
    "            cur.execute(sql_setup)\n",
    "    print(\"Table 'users' created and populated.\")\n",
    "except psycopg2.Error as e:\n",
    "    print(f\"Database error: {e}\")"
   ]
  },
  {
   "cell_type": "markdown",
   "metadata": {},
   "source": [
    "### The WRONG Way: Vulnerable Code\n",
    "\n",
    "This function uses an f-string to build the query. **NEVER DO THIS.**"
   ]
  },
  {
   "cell_type": "code",
   "execution_count": 4,
   "metadata": {},
   "outputs": [
    {
     "name": "stdout",
     "output_type": "stream",
     "text": [
      "Executing SQL: SELECT * FROM users WHERE username = 'admin' OR 1=1; -- ' AND password = 'anything';\n",
      "Login successful! Welcome, admin.\n"
     ]
    }
   ],
   "source": [
    "def vulnerable_login(username, password):\n",
    "    sql = f\"SELECT * FROM users WHERE username = '{username}' AND password = '{password}';\"\n",
    "    print(f\"Executing SQL: {sql}\") # For demonstration\n",
    "    \n",
    "    with psycopg2.connect(host=DB_HOST, dbname=DB_NAME, user=DB_USER, password=DB_PASS) as conn:\n",
    "        with conn.cursor() as cur:\n",
    "            cur.execute(sql)\n",
    "            user = cur.fetchone()\n",
    "            if user:\n",
    "                print(f\"Login successful! Welcome, {user[1]}.\")\n",
    "            else:\n",
    "                print(\"Login failed.\")\n",
    "\n",
    "# A malicious user doesn't know the password. They input this:\n",
    "malicious_username = \"admin' OR 1=1; -- \"\n",
    "malicious_password = \"anything\"\n",
    "\n",
    "vulnerable_login(malicious_username, malicious_password)"
   ]
  },
  {
   "cell_type": "markdown",
   "metadata": {},
   "source": [
    "The malicious input `' OR 1=1; --` breaks the query. The `WHERE` clause becomes `WHERE username = 'admin' OR 1=1`, which is always true, and the `--` comments out the rest of the line, ignoring the password check. The attacker is logged in as admin without knowing the password."
   ]
  },
  {
   "cell_type": "markdown",
   "metadata": {},
   "source": [
    "### The RIGHT Way: Parameterized Queries\n",
    "\n",
    "To prevent this, we use placeholders (`%s`) and pass the values as a separate tuple. `psycopg2` will then safely combine them, escaping any dangerous characters."
   ]
  },
  {
   "cell_type": "code",
   "execution_count": 5,
   "metadata": {},
   "outputs": [
    {
     "name": "stdout",
     "output_type": "stream",
     "text": [
      "--- Trying the attack again on the secure function ---\n",
      "Login failed.\n",
      "\n",
      "--- Trying a legitimate login on the secure function ---\n",
      "Login successful! Welcome, fahad.\n"
     ]
    }
   ],
   "source": [
    "def secure_login(username, password):\n",
    "    # Note the %s placeholders and the tuple of variables\n",
    "    sql = \"SELECT * FROM users WHERE username = %s AND password = %s;\"\n",
    "    \n",
    "    with psycopg2.connect(host=DB_HOST, dbname=DB_NAME, user=DB_USER, password=DB_PASS) as conn:\n",
    "        with conn.cursor() as cur:\n",
    "            cur.execute(sql, (username, password))\n",
    "            user = cur.fetchone()\n",
    "            if user:\n",
    "                print(f\"Login successful! Welcome, {user[1]}.\")\n",
    "            else:\n",
    "                print(\"Login failed.\")\n",
    "\n",
    "print(\"--- Trying the attack again on the secure function ---\")\n",
    "secure_login(malicious_username, malicious_password)\n",
    "\n",
    "print(\"\\n--- Trying a legitimate login on the secure function ---\")\n",
    "secure_login('fahad', 'secret99')"
   ]
  },
  {
   "cell_type": "markdown",
   "metadata": {},
   "source": [
    "--- \n",
    "## Effective Data Handling\n",
    "\n",
    "Fetching data as tuples (`row[0]`, `row[1]`) works, but it's not very readable. Let's explore better options."
   ]
  },
  {
   "cell_type": "markdown",
   "metadata": {},
   "source": [
    "### Option 1: Dictionary Cursor\n",
    "\n",
    "By specifying `cursor_factory=psycopg2.extras.DictCursor`, we can fetch rows that behave like dictionaries, allowing access by column name."
   ]
  },
  {
   "cell_type": "code",
   "execution_count": 6,
   "metadata": {},
   "outputs": [
    {
     "name": "stdout",
     "output_type": "stream",
     "text": [
      "ID: 1, Username: admin, Password: password123\n",
      "ID: 2, Username: fahad, Password: secret99\n"
     ]
    }
   ],
   "source": [
    "with psycopg2.connect(host=DB_HOST, dbname=DB_NAME, user=DB_USER, password=DB_PASS) as conn:\n",
    "    # Use the special DictCursor\n",
    "    with conn.cursor(cursor_factory=psycopg2.extras.DictCursor) as cur:\n",
    "        cur.execute(\"SELECT * FROM users;\")\n",
    "        for row in cur.fetchall():\n",
    "            print(f\"ID: {row['id']}, Username: {row['username']}, Password: {row['password']}\")"
   ]
  },
  {
   "cell_type": "markdown",
   "metadata": {},
   "source": [
    "### Option 2: Load Directly into Pandas DataFrame\n",
    "\n",
    "For data analysis, the most powerful method is to load the query result directly into a Pandas DataFrame. `pandas.read_sql_query` handles the connection, query, and data loading in one simple step."
   ]
  },
  {
   "cell_type": "code",
   "execution_count": 7,
   "metadata": {},
   "outputs": [
    {
     "name": "stdout",
     "output_type": "stream",
     "text": [
      "Data loaded into Pandas DataFrame:\n"
     ]
    },
    {
     "name": "stderr",
     "output_type": "stream",
     "text": [
      "C:\\Users\\Fahad Shah\\AppData\\Local\\Temp\\ipykernel_17596\\1414828771.py:4: UserWarning: pandas only supports SQLAlchemy connectable (engine/connection) or database string URI or sqlite3 DBAPI2 connection. Other DBAPI2 objects are not tested. Please consider using SQLAlchemy.\n",
      "  df = pd.read_sql_query(sql, conn)\n"
     ]
    },
    {
     "data": {
      "text/html": [
       "<div>\n",
       "<style scoped>\n",
       "    .dataframe tbody tr th:only-of-type {\n",
       "        vertical-align: middle;\n",
       "    }\n",
       "\n",
       "    .dataframe tbody tr th {\n",
       "        vertical-align: top;\n",
       "    }\n",
       "\n",
       "    .dataframe thead th {\n",
       "        text-align: right;\n",
       "    }\n",
       "</style>\n",
       "<table border=\"1\" class=\"dataframe\">\n",
       "  <thead>\n",
       "    <tr style=\"text-align: right;\">\n",
       "      <th></th>\n",
       "      <th>id</th>\n",
       "      <th>username</th>\n",
       "    </tr>\n",
       "  </thead>\n",
       "  <tbody>\n",
       "    <tr>\n",
       "      <th>0</th>\n",
       "      <td>1</td>\n",
       "      <td>admin</td>\n",
       "    </tr>\n",
       "    <tr>\n",
       "      <th>1</th>\n",
       "      <td>2</td>\n",
       "      <td>fahad</td>\n",
       "    </tr>\n",
       "  </tbody>\n",
       "</table>\n",
       "</div>"
      ],
      "text/plain": [
       "   id username\n",
       "0   1    admin\n",
       "1   2    fahad"
      ]
     },
     "metadata": {},
     "output_type": "display_data"
    },
    {
     "name": "stdout",
     "output_type": "stream",
     "text": [
      "\n",
      "Now you can use all Pandas functions, e.g., df.describe():\n"
     ]
    },
    {
     "data": {
      "text/html": [
       "<div>\n",
       "<style scoped>\n",
       "    .dataframe tbody tr th:only-of-type {\n",
       "        vertical-align: middle;\n",
       "    }\n",
       "\n",
       "    .dataframe tbody tr th {\n",
       "        vertical-align: top;\n",
       "    }\n",
       "\n",
       "    .dataframe thead th {\n",
       "        text-align: right;\n",
       "    }\n",
       "</style>\n",
       "<table border=\"1\" class=\"dataframe\">\n",
       "  <thead>\n",
       "    <tr style=\"text-align: right;\">\n",
       "      <th></th>\n",
       "      <th>id</th>\n",
       "    </tr>\n",
       "  </thead>\n",
       "  <tbody>\n",
       "    <tr>\n",
       "      <th>count</th>\n",
       "      <td>2.000000</td>\n",
       "    </tr>\n",
       "    <tr>\n",
       "      <th>mean</th>\n",
       "      <td>1.500000</td>\n",
       "    </tr>\n",
       "    <tr>\n",
       "      <th>std</th>\n",
       "      <td>0.707107</td>\n",
       "    </tr>\n",
       "    <tr>\n",
       "      <th>min</th>\n",
       "      <td>1.000000</td>\n",
       "    </tr>\n",
       "    <tr>\n",
       "      <th>25%</th>\n",
       "      <td>1.250000</td>\n",
       "    </tr>\n",
       "    <tr>\n",
       "      <th>50%</th>\n",
       "      <td>1.500000</td>\n",
       "    </tr>\n",
       "    <tr>\n",
       "      <th>75%</th>\n",
       "      <td>1.750000</td>\n",
       "    </tr>\n",
       "    <tr>\n",
       "      <th>max</th>\n",
       "      <td>2.000000</td>\n",
       "    </tr>\n",
       "  </tbody>\n",
       "</table>\n",
       "</div>"
      ],
      "text/plain": [
       "             id\n",
       "count  2.000000\n",
       "mean   1.500000\n",
       "std    0.707107\n",
       "min    1.000000\n",
       "25%    1.250000\n",
       "50%    1.500000\n",
       "75%    1.750000\n",
       "max    2.000000"
      ]
     },
     "metadata": {},
     "output_type": "display_data"
    }
   ],
   "source": [
    "sql = \"SELECT id, username FROM users;\"\n",
    "df = None\n",
    "with psycopg2.connect(host=DB_HOST, dbname=DB_NAME, user=DB_USER, password=DB_PASS) as conn:\n",
    "    df = pd.read_sql_query(sql, conn)\n",
    "\n",
    "print(\"Data loaded into Pandas DataFrame:\")\n",
    "display(df)\n",
    "print(\"\\nNow you can use all Pandas functions, e.g., df.describe():\")\n",
    "display(df.describe())"
   ]
  },
  {
   "cell_type": "markdown",
   "metadata": {},
   "source": [
    "--- \n",
    "## Conclusion\n",
    "\n",
    "This notebook covered two vital concepts:\n",
    "\n",
    "1.  **Always use parameterized queries** (`%s` placeholders) to prevent SQL injection. Never use f-strings or other string formatting to build queries with user input.\n",
    "2.  **Handle data effectively**: Use `DictCursor` for readable row access in standard Python, and use `pandas.read_sql_query` to seamlessly integrate your database with powerful data analysis tools."
   ]
  }
 ],
 "metadata": {
  "kernelspec": {
   "display_name": "Python 3 (ipykernel)",
   "language": "python",
   "name": "python3"
  },
  "language_info": {
   "codemirror_mode": {
    "name": "ipython",
    "version": 3
   },
   "file_extension": ".py",
   "mimetype": "text/x-python",
   "name": "python",
   "nbconvert_exporter": "python",
   "pygments_lexer": "ipython3",
   "version": "3.13.5"
  }
 },
 "nbformat": 4,
 "nbformat_minor": 4
}
