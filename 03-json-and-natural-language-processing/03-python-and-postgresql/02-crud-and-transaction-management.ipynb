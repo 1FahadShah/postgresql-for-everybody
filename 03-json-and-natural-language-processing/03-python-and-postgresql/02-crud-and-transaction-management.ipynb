{
 "cells": [
  {
   "cell_type": "markdown",
   "metadata": {},
   "source": [
    "# CRUD Operations and Transaction Management\n",
    "\n",
    "With a connection established, we can now perform the fundamental database operations, collectively known as **CRUD**: Create, Read, Update, and Delete.\n",
    "\n",
    "This notebook will also cover the most critical concept in database reliability: **transactions**. We will learn how to use `connection.commit()` to save changes and `connection.rollback()` to discard them, ensuring that our database remains in a consistent state."
   ]
  },
  {
   "cell_type": "markdown",
   "metadata": {},
   "source": [
    "--- \n",
    "## Setup\n",
    "\n",
    "We'll import `psycopg2` and define our connection details, just as before."
   ]
  },
  {
   "cell_type": "code",
   "execution_count": 1,
   "metadata": {},
   "outputs": [],
   "source": [
    "import psycopg2\n",
    "\n",
    "DB_HOST = \"localhost\"\n",
    "DB_NAME = \"people\"\n",
    "DB_USER = \"fahad\"\n",
    "DB_PASS = \"secret\""
   ]
  },
  {
   "cell_type": "markdown",
   "metadata": {},
   "source": [
    "--- \n",
    "## Step 1: Create a Sample Table\n",
    "\n",
    "Let's create a simple `employees` table to use for our CRUD examples. We'll use the `with` statement for clean execution."
   ]
  },
  {
   "cell_type": "code",
   "execution_count": 2,
   "metadata": {},
   "outputs": [
    {
     "name": "stdout",
     "output_type": "stream",
     "text": [
      "Table 'employees' created successfully.\n"
     ]
    }
   ],
   "source": [
    "sql = \"\"\"\n",
    "DROP TABLE IF EXISTS employees CASCADE;\n",
    "CREATE TABLE employees (\n",
    "    id SERIAL PRIMARY KEY,\n",
    "    name VARCHAR(255) NOT NULL,\n",
    "    role VARCHAR(255),\n",
    "    salary INT\n",
    ");\n",
    "\"\"\"\n",
    "\n",
    "try:\n",
    "    with psycopg2.connect(host=DB_HOST, dbname=DB_NAME, user=DB_USER, password=DB_PASS) as conn:\n",
    "        with conn.cursor() as cur:\n",
    "            cur.execute(sql)\n",
    "    print(\"Table 'employees' created successfully.\")\n",
    "except psycopg2.Error as e:\n",
    "    print(f\"Database error: {e}\")"
   ]
  },
  {
   "cell_type": "markdown",
   "metadata": {},
   "source": [
    "--- \n",
    "## Step 2: CRUD Operations\n",
    "\n",
    "Now we'll perform each of the CRUD operations. Notice that after every data-modifying operation (`INSERT`, `UPDATE`, `DELETE`), we must call `conn.commit()` to make the changes permanent."
   ]
  },
  {
   "cell_type": "code",
   "execution_count": 3,
   "metadata": {},
   "outputs": [
    {
     "name": "stdout",
     "output_type": "stream",
     "text": [
      "--- Inserting a new employee ---\n",
      "--- Reading the data ---\n",
      "(1, 'Alice', 'Developer', 80000)\n",
      "\n",
      "--- Updating Alice's salary ---\n",
      "(1, 'Alice', 'Developer', 90000)\n",
      "\n",
      "--- Deleting Alice ---\n",
      "Total employees now: 0\n",
      "\n",
      "Changes committed successfully.\n"
     ]
    }
   ],
   "source": [
    "try:\n",
    "    with psycopg2.connect(host=DB_HOST, dbname=DB_NAME, user=DB_USER, password=DB_PASS) as conn:\n",
    "        with conn.cursor() as cur:\n",
    "            # CREATE: Insert a new employee\n",
    "            print(\"--- Inserting a new employee ---\")\n",
    "            cur.execute(\"INSERT INTO employees (name, role, salary) VALUES (%s, %s, %s);\", ('Alice', 'Developer', 80000))\n",
    "            # We'll commit at the end of the block.\n",
    "\n",
    "            # READ: Fetch and display the employee\n",
    "            print(\"--- Reading the data ---\")\n",
    "            cur.execute(\"SELECT * FROM employees WHERE name = %s;\", ('Alice',))\n",
    "            print(cur.fetchone())\n",
    "            \n",
    "            # UPDATE: Give Alice a raise\n",
    "            print(\"\\n--- Updating Alice's salary ---\")\n",
    "            cur.execute(\"UPDATE employees SET salary = %s WHERE name = %s;\", (90000, 'Alice'))\n",
    "            cur.execute(\"SELECT * FROM employees WHERE name = %s;\", ('Alice',))\n",
    "            print(cur.fetchone())\n",
    "\n",
    "            # DELETE: Remove Alice from the table\n",
    "            print(\"\\n--- Deleting Alice ---\")\n",
    "            cur.execute(\"DELETE FROM employees WHERE name = %s;\", ('Alice',))\n",
    "            cur.execute(\"SELECT COUNT(*) FROM employees;\")\n",
    "            print(f\"Total employees now: {cur.fetchone()[0]}\")\n",
    "\n",
    "        # The transaction is committed here, when the 'with conn' block exits successfully\n",
    "        # Or you can explicitly call conn.commit()\n",
    "        conn.commit()\n",
    "        print(\"\\nChanges committed successfully.\")\n",
    "except psycopg2.Error as e:\n",
    "    print(f\"Database error: {e}\")"
   ]
  },
  {
   "cell_type": "markdown",
   "metadata": {},
   "source": [
    "--- \n",
    "## Step 3: Understanding `commit()` and `rollback()`\n",
    "\n",
    "A **transaction** is a sequence of operations performed as a single logical unit of work. All changes in a transaction are temporary until you **commit** them. You can discard all changes in a transaction by performing a **rollback**.\n",
    "\n",
    "Let's demonstrate this by trying to add an employee but then rolling back the change."
   ]
  },
  {
   "cell_type": "code",
   "execution_count": 4,
   "metadata": {},
   "outputs": [
    {
     "name": "stdout",
     "output_type": "stream",
     "text": [
      "Employees named Bob before insert: 0\n",
      "Employees named Bob during transaction: 1\n",
      "--- Rolling back the transaction ---\n",
      "Employees named Bob after rollback: 0\n"
     ]
    }
   ],
   "source": [
    "try:\n",
    "    with psycopg2.connect(host=DB_HOST, dbname=DB_NAME, user=DB_USER, password=DB_PASS) as conn:\n",
    "        with conn.cursor() as cur:\n",
    "            # Check initial state\n",
    "            cur.execute(\"SELECT COUNT(*) FROM employees WHERE name = 'Bob';\")\n",
    "            print(f\"Employees named Bob before insert: {cur.fetchone()[0]}\")\n",
    "            \n",
    "            # Start a transaction and insert a new employee\n",
    "            cur.execute(\"INSERT INTO employees (name, role, salary) VALUES (%s, %s, %s);\", ('Bob', 'Manager', 120000))\n",
    "            \n",
    "            # We can see Bob within our own transaction\n",
    "            cur.execute(\"SELECT COUNT(*) FROM employees WHERE name = 'Bob';\")\n",
    "            print(f\"Employees named Bob during transaction: {cur.fetchone()[0]}\")\n",
    "\n",
    "            # Now, instead of committing, we roll back\n",
    "            print(\"--- Rolling back the transaction ---\")\n",
    "            conn.rollback()\n",
    "            \n",
    "            # Check the final state\n",
    "            cur.execute(\"SELECT COUNT(*) FROM employees WHERE name = 'Bob';\")\n",
    "            print(f\"Employees named Bob after rollback: {cur.fetchone()[0]}\")\n",
    "            \n",
    "except psycopg2.Error as e:\n",
    "    print(f\"Database error: {e}\")"
   ]
  },
  {
   "cell_type": "markdown",
   "metadata": {},
   "source": [
    "--- \n",
    "## Conclusion\n",
    "\n",
    "In this notebook, we learned how to perform the four fundamental CRUD operations. More importantly, we learned about the atomic nature of database transactions:\n",
    "\n",
    "- By default, `psycopg2` starts a new transaction when you execute your first command.\n",
    "- Changes are only made permanent and visible to other connections when you call `connection.commit()`.\n",
    "- You can discard all changes made since the last commit by calling `connection.rollback()`.\n",
    "- Using a `with psycopg2.connect(...) as conn:` block will automatically `commit` on successful exit or `rollback` if an exception occurs.\n",
    "\n",
    "This transactional control is essential for writing reliable and robust database applications."
   ]
  }
 ],
 "metadata": {
  "kernelspec": {
   "display_name": "Python 3 (ipykernel)",
   "language": "python",
   "name": "python3"
  },
  "language_info": {
   "codemirror_mode": {
    "name": "ipython",
    "version": 3
   },
   "file_extension": ".py",
   "mimetype": "text/x-python",
   "name": "python",
   "nbconvert_exporter": "python",
   "pygments_lexer": "ipython3",
   "version": "3.13.5"
  }
 },
 "nbformat": 4,
 "nbformat_minor": 4
}
