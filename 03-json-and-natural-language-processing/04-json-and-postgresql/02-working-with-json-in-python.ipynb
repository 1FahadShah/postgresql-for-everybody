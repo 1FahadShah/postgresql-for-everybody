{
 "cells": [
  {
   "cell_type": "markdown",
   "metadata": {},
   "source": [
    "# Working with JSON in Python\n",
    "\n",
    "This notebook is a practical guide to handling JSON data using Python's built-in `json` library. This is a fundamental skill for any developer working with web APIs or modern data formats.\n",
    "\n",
    "We will cover the two primary operations:\n",
    "1.  **Serialization**: Converting Python objects (like dictionaries and lists) into a JSON formatted string.\n",
    "2.  **Deserialization**: Parsing a JSON formatted string back into a native Python object."
   ]
  },
  {
   "cell_type": "markdown",
   "metadata": {},
   "source": [
    "--- \n",
    "## Setup\n",
    "\n",
    "First, let's import the `json` library. It's part of the Python standard library, so no installation is needed."
   ]
  },
  {
   "cell_type": "code",
   "execution_count": 1,
   "metadata": {},
   "outputs": [],
   "source": [
    "import json"
   ]
  },
  {
   "cell_type": "markdown",
   "metadata": {},
   "source": [
    "--- \n",
    "## 1. Serialization (Python Object → JSON String)\n",
    "\n",
    "Serialization is the process of converting your Python data into a string that can be stored or transmitted. The `json` library provides two main functions for this:\n",
    "- `json.dumps()`: Dumps an object to a **s**tring.\n",
    "- `json.dump()`: Dumps an object to a **file**."
   ]
  },
  {
   "cell_type": "markdown",
   "metadata": {},
   "source": [
    "### Using `json.dumps()`\n",
    "\n",
    "Let's take a Python dictionary and convert it into a JSON string. We'll also use the `indent` parameter to make the output human-readable (\"pretty-printing\")."
   ]
  },
  {
   "cell_type": "code",
   "execution_count": 2,
   "metadata": {},
   "outputs": [
    {
     "name": "stdout",
     "output_type": "stream",
     "text": [
      "{\n",
      "    \"id\": 101,\n",
      "    \"name\": \"Fahad Shah\",\n",
      "    \"is_active\": true,\n",
      "    \"courses\": [\n",
      "        \"PostgreSQL\",\n",
      "        \"Python\"\n",
      "    ],\n",
      "    \"profile\": null\n",
      "}\n",
      "\n",
      "The type of the result is: <class 'str'>\n"
     ]
    }
   ],
   "source": [
    "user_data = {\n",
    "    \"id\": 101,\n",
    "    \"name\": \"Fahad Shah\",\n",
    "    \"is_active\": True,\n",
    "    \"courses\": [\"PostgreSQL\", \"Python\"],\n",
    "    \"profile\": None\n",
    "}\n",
    "\n",
    "# Serialize the dictionary to a JSON formatted string\n",
    "json_string = json.dumps(user_data, indent=4)\n",
    "\n",
    "print(json_string)\n",
    "print(f\"\\nThe type of the result is: {type(json_string)}\")"
   ]
  },
  {
   "cell_type": "markdown",
   "metadata": {},
   "source": [
    "--- \n",
    "## 2. Deserialization (JSON String → Python Object)\n",
    "\n",
    "Deserialization is the reverse process: converting a JSON string back into a Python object that you can work with.\n",
    "\n",
    "- `json.loads()`: Loads a **s**tring into a Python object.\n",
    "- `json.load()`: Loads from a **file** into a Python object."
   ]
  },
  {
   "cell_type": "markdown",
   "metadata": {},
   "source": [
    "### Using `json.loads()`\n",
    "\n",
    "Let's take the `json_string` we just created and parse it back into a Python dictionary."
   ]
  },
  {
   "cell_type": "code",
   "execution_count": 3,
   "metadata": {},
   "outputs": [
    {
     "name": "stdout",
     "output_type": "stream",
     "text": [
      "Original string:\n",
      "{\n",
      "    \"id\": 101,\n",
      "    \"name\": \"Fahad Shah\",\n",
      "    \"is_active\": true,\n",
      "    \"courses\": [\n",
      "        \"PostgreSQL\",\n",
      "        \"Python\"\n",
      "    ],\n",
      "    \"profile\": null\n",
      "}\n",
      "\n",
      "The type of the result is: <class 'dict'>\n",
      "Accessing data using dictionary keys: Fahad Shah\n",
      "Accessing data in the list: PostgreSQL\n"
     ]
    }
   ],
   "source": [
    "# The json_string from the previous cell\n",
    "print(f\"Original string:\\n{json_string}\\n\")\n",
    "\n",
    "# Deserialize the string back into a Python object\n",
    "python_dict = json.loads(json_string)\n",
    "\n",
    "print(f\"The type of the result is: {type(python_dict)}\")\n",
    "print(f\"Accessing data using dictionary keys: {python_dict['name']}\")\n",
    "print(f\"Accessing data in the list: {python_dict['courses'][0]}\")"
   ]
  },
  {
   "cell_type": "markdown",
   "metadata": {},
   "source": [
    "--- \n",
    "## 3. Practical Walkthrough: Reading and Writing JSON Files\n",
    "\n",
    "A common workflow is to write data to a `.json` file and then read it back later. Let's combine `json.dump()` and `json.load()` to do this."
   ]
  },
  {
   "cell_type": "code",
   "execution_count": 4,
   "metadata": {},
   "outputs": [
    {
     "name": "stdout",
     "output_type": "stream",
     "text": [
      "Data successfully written to user_profile.json\n"
     ]
    }
   ],
   "source": [
    "# Step 1: Write the Python object to a file\n",
    "file_path = 'user_profile.json'\n",
    "\n",
    "with open(file_path, 'w') as json_file:\n",
    "    json.dump(user_data, json_file, indent=4)\n",
    "\n",
    "print(f\"Data successfully written to {file_path}\")"
   ]
  },
  {
   "cell_type": "code",
   "execution_count": 5,
   "metadata": {},
   "outputs": [
    {
     "name": "stdout",
     "output_type": "stream",
     "text": [
      "{\n",
      "    \"id\": 101,\n",
      "    \"name\": \"Fahad Shah\",\n",
      "    \"is_active\": true,\n",
      "    \"courses\": [\n",
      "        \"PostgreSQL\",\n",
      "        \"Python\"\n",
      "    ],\n",
      "    \"profile\": null\n",
      "}\n"
     ]
    }
   ],
   "source": [
    "# You can now open 'user_profile.json' in a text editor to see the contents.\n",
    "# Let's verify by printing the file content.\n",
    "with open(file_path, 'r') as f:\n",
    "    print(f.read())"
   ]
  },
  {
   "cell_type": "code",
   "execution_count": 6,
   "metadata": {},
   "outputs": [
    {
     "name": "stdout",
     "output_type": "stream",
     "text": [
      "Data loaded from user_profile.json\n",
      "Type of loaded data: <class 'dict'>\n",
      "User's name from file: Fahad Shah\n"
     ]
    }
   ],
   "source": [
    "# Step 2: Read the JSON data back from the file\n",
    "loaded_data = None\n",
    "\n",
    "with open(file_path, 'r') as json_file:\n",
    "    loaded_data = json.load(json_file)\n",
    "\n",
    "print(f\"Data loaded from {file_path}\")\n",
    "print(f\"Type of loaded data: {type(loaded_data)}\")\n",
    "print(f\"User's name from file: {loaded_data['name']}\")"
   ]
  },
  {
   "cell_type": "markdown",
   "metadata": {},
   "source": [
    "--- \n",
    "## Conclusion\n",
    "\n",
    "In this notebook, we mastered the essential functions of Python's `json` library:\n",
    "\n",
    "- **`dumps` / `loads`**: For working with JSON **s**trings.\n",
    "- **`dump` / `load`**: For working with JSON **f**iles.\n",
    "\n",
    "This knowledge is the bridge that allows our Python applications to speak the language of modern APIs and databases. Now that we can create and parse JSON, we are ready to learn how to store and query it in PostgreSQL."
   ]
  }
 ],
 "metadata": {
  "kernelspec": {
   "display_name": "Python 3 (ipykernel)",
   "language": "python",
   "name": "python3"
  },
  "language_info": {
   "codemirror_mode": {
    "name": "ipython",
    "version": 3
   },
   "file_extension": ".py",
   "mimetype": "text/x-python",
   "name": "python",
   "nbconvert_exporter": "python",
   "pygments_lexer": "ipython3",
   "version": "3.13.5"
  }
 },
 "nbformat": 4,
 "nbformat_minor": 4
}
