{
 "cells": [
  {
   "cell_type": "markdown",
   "metadata": {},
   "source": [
    "# Building a Simple JSON API with Python and PostgreSQL\n",
    "\n",
    "This notebook is the capstone for everything we've learned. We will build a simple but functional web API that serves JSON data directly from our PostgreSQL database. This completes the full-stack data pipeline: from database storage to application-level delivery.\n",
    "\n",
    "We will use **Flask**, a lightweight and popular Python web framework, to create our API. This requires integrating the skills from our previous modules:\n",
    "\n",
    "1.  Connecting to PostgreSQL with `psycopg2`.\n",
    "2.  Querying `JSONB` data.\n",
    "3.  Serving the results as a JSON response."
   ]
  },
  {
   "cell_type": "markdown",
   "metadata": {},
   "source": [
    "--- \n",
    "## Step 1: Install Flask\n",
    "\n",
    "Flask is a third-party library, so we need to install it first."
   ]
  },
  {
   "cell_type": "code",
   "execution_count": 9,
   "metadata": {},
   "outputs": [
    {
     "name": "stdout",
     "output_type": "stream",
     "text": [
      "Requirement already satisfied: Flask in c:\\users\\fahad shah\\appdata\\local\\programs\\python\\python313\\lib\\site-packages (3.1.2)\n",
      "Requirement already satisfied: blinker>=1.9.0 in c:\\users\\fahad shah\\appdata\\local\\programs\\python\\python313\\lib\\site-packages (from Flask) (1.9.0)\n",
      "Requirement already satisfied: click>=8.1.3 in c:\\users\\fahad shah\\appdata\\local\\programs\\python\\python313\\lib\\site-packages (from Flask) (8.2.1)\n",
      "Requirement already satisfied: itsdangerous>=2.2.0 in c:\\users\\fahad shah\\appdata\\local\\programs\\python\\python313\\lib\\site-packages (from Flask) (2.2.0)\n",
      "Requirement already satisfied: jinja2>=3.1.2 in c:\\users\\fahad shah\\appdata\\local\\programs\\python\\python313\\lib\\site-packages (from Flask) (3.1.6)\n",
      "Requirement already satisfied: markupsafe>=2.1.1 in c:\\users\\fahad shah\\appdata\\local\\programs\\python\\python313\\lib\\site-packages (from Flask) (3.0.2)\n",
      "Requirement already satisfied: werkzeug>=3.1.0 in c:\\users\\fahad shah\\appdata\\local\\programs\\python\\python313\\lib\\site-packages (from Flask) (3.1.3)\n",
      "Requirement already satisfied: colorama in c:\\users\\fahad shah\\appdata\\local\\programs\\python\\python313\\lib\\site-packages (from click>=8.1.3->Flask) (0.4.6)\n"
     ]
    }
   ],
   "source": [
    "!pip install Flask"
   ]
  },
  {
   "cell_type": "markdown",
   "metadata": {},
   "source": [
    "--- \n",
    "## Step 2: The API Code\n",
    "\n",
    "Below is the complete Python code for our simple API. We will not run this code *inside* the notebook. Instead, we will save it as a separate `.py` file and run it from the terminal.\n",
    "\n",
    "The code does the following:\n",
    "- Imports `Flask` and `psycopg2`.\n",
    "- Creates a Flask application.\n",
    "- Defines an API endpoint (a URL) at `/api/users/<int:user_id>`.\n",
    "- When that URL is visited, it connects to PostgreSQL.\n",
    "- It queries the `users_json` table (from our last notebook) for the specified `user_id`.\n",
    "- It returns the user's `profile` data as a JSON response or a 404 error if the user is not found."
   ]
  },
  {
   "cell_type": "code",
   "execution_count": 11,
   "metadata": {},
   "outputs": [
    {
     "name": "stdout",
     "output_type": "stream",
     "text": [
      "API code has been written to api.py. Please proceed to the next step.\n"
     ]
    }
   ],
   "source": [
    "# This is the code for our 'api.py' file.\n",
    "# Copy this code into a new file named api.py in the same directory as your notebook.\n",
    "\n",
    "api_code = \"\"\"\\\n",
    "from flask import Flask, jsonify, abort\n",
    "import psycopg2\n",
    "import psycopg2.extras\n",
    "\n",
    "# --- Database Connection Details ---\n",
    "DB_HOST = 'localhost'\n",
    "DB_NAME = 'people'\n",
    "DB_USER = 'fahad'\n",
    "DB_PASS = 'secret'\n",
    "\n",
    "# Create the Flask application\n",
    "app = Flask(__name__)\n",
    "\n",
    "# Define the API endpoint (URL route)\n",
    "@app.route('/api/users/<int:user_id>', methods=['GET'])\n",
    "def get_user(user_id):\n",
    "    conn = None\n",
    "    try:\n",
    "        # Connect to the database\n",
    "        conn = psycopg2.connect(host=DB_HOST, dbname=DB_NAME, user=DB_USER, password=DB_PASS)\n",
    "        # Use DictCursor to get dictionary-like rows\n",
    "        with conn.cursor(cursor_factory=psycopg2.extras.DictCursor) as cur:\n",
    "            # Query for the specific user\n",
    "            cur.execute(\"SELECT profile FROM users_json WHERE id = %s;\", (user_id,))\n",
    "            user_data = cur.fetchone()\n",
    "        \n",
    "        if user_data is None:\n",
    "            # If user not found, return a 404 error\n",
    "            abort(404, description=f'User with ID {user_id} not found.')\n",
    "        \n",
    "        # The 'profile' column is already JSONB, so user_data['profile'] is a dict\n",
    "        # jsonify will convert the Python dict to a JSON response\n",
    "        return jsonify(user_data['profile'])\n",
    "    \n",
    "    except psycopg2.Error as e:\n",
    "        # Handle potential database errors\n",
    "        abort(500, description=f'Database error: {e}')\n",
    "    \n",
    "    finally:\n",
    "        if conn is not None:\n",
    "            conn.close()\n",
    "\n",
    "# This allows us to run the app directly from the script\n",
    "if __name__ == '__main__':\n",
    "    app.run(debug=True)\n",
    "\"\"\"\n",
    "\n",
    "# Write the code to a file named api.py\n",
    "with open('api.py', 'w') as f:\n",
    "    f.write(api_code)\n",
    "\n",
    "print(\"API code has been written to api.py. Please proceed to the next step.\")"
   ]
  },
  {
   "cell_type": "markdown",
   "metadata": {},
   "source": [
    "--- \n",
    "## Step 3: Running the API\n",
    "\n",
    "1.  Open a new terminal or command prompt.\n",
    "2.  Navigate to the same directory where you saved `api.py`.\n",
    "3.  Run the following command to start the web server:\n",
    "\n",
    "    ```bash\n",
    "    python api.py\n",
    "    ```\n",
    "\n",
    "You should see output indicating that a Flask server is running, usually on `http://127.0.0.1:5000`."
   ]
  },
  {
   "cell_type": "markdown",
   "metadata": {},
   "source": [
    "--- \n",
    "## Step 4: Testing the API\n",
    "\n",
    "With the server running, you can now test the API endpoint. Open a **new terminal** (while the server is still running in the other one) and use `curl`, or simply open the URLs in your web browser.\n",
    "\n",
    "### Test 1: Get User 1 (Should Succeed)\n",
    "\n",
    "In the terminal, run:\n",
    "```bash\n",
    "curl [http://127.0.0.1:5000/api/users/1](http://127.0.0.1:5000/api/users/1)\n",
    "```\n",
    "You should see the JSON profile for Fahad Shah.\n",
    "\n",
    "### Test 2: Get User 2 (Should Succeed)\n",
    "\n",
    "In the terminal, run:\n",
    "```bash\n",
    "curl [http://127.0.0.1:5000/api/users/2](http://127.0.0.1:5000/api/users/2)\n",
    "```\n",
    "You should see the JSON profile for Alice.\n",
    "\n",
    "### Test 3: Get User 99 (Should Fail with 404)\n",
    "\n",
    "In the terminal, run:\n",
    "```bash\n",
    "curl [http://127.0.0.1:5000/api/users/99](http://127.0.0.1:5000/api/users/99)\n",
    "```\n",
    "You should get a \"Not Found\" error, as expected."
   ]
  },
  {
   "cell_type": "markdown",
   "metadata": {},
   "source": [
    "**To stop the server, go back to its terminal window and press `Ctrl + C`.**"
   ]
  },
  {
   "cell_type": "markdown",
   "metadata": {},
   "source": [
    "--- \n",
    "## Conclusion\n",
    "\n",
    "This notebook demonstrated the final step in the data lifecycle: exposing it to other applications via a clean, simple JSON API. We have successfully:\n",
    "\n",
    "1.  Stored complex `JSONB` data in PostgreSQL.\n",
    "2.  Written a Python application to connect and query that data.\n",
    "3.  Used the Flask framework to create a web server and an API endpoint.\n",
    "4.  Served the database results as a standard JSON response.\n",
    "\n",
    "This completes our journey from understanding data formats to building a functional API."
   ]
  }
 ],
 "metadata": {
  "kernelspec": {
   "display_name": "Python 3 (ipykernel)",
   "language": "python",
   "name": "python3"
  },
  "language_info": {
   "codemirror_mode": {
    "name": "ipython",
    "version": 3
   },
   "file_extension": ".py",
   "mimetype": "text/x-python",
   "name": "python",
   "nbconvert_exporter": "python",
   "pygments_lexer": "ipython3",
   "version": "3.13.5"
  }
 },
 "nbformat": 4,
 "nbformat_minor": 4
}
